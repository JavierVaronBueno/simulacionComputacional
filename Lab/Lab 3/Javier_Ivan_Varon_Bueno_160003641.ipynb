{
  "nbformat": 4,
  "nbformat_minor": 0,
  "metadata": {
    "colab": {
      "name": "Javier Ivan Varon Bueno 160003641.ipynb",
      "provenance": [],
      "collapsed_sections": []
    },
    "kernelspec": {
      "name": "python3",
      "display_name": "Python 3"
    }
  },
  "cells": [
    {
      "cell_type": "code",
      "metadata": {
        "id": "n6WB-0B7yetn"
      },
      "source": [
        "%matplotlib inline \n",
        "\n",
        "import numpy as np\n",
        "import math\n",
        "import matplotlib.pyplot as plt"
      ],
      "execution_count": 37,
      "outputs": []
    },
    {
      "cell_type": "code",
      "metadata": {
        "id": "rGdfsZYoyj50"
      },
      "source": [
        "Xant1 = 434287492\n",
        "Xant2 = 514324426\n",
        "res = []\n",
        "tamXi = 10000\n",
        "M = 99999.0\n",
        "T = 40.0\n",
        "at = []\n",
        "an = []\n",
        "LLt = []\n",
        "St = []"
      ],
      "execution_count": 38,
      "outputs": []
    },
    {
      "cell_type": "code",
      "metadata": {
        "id": "wwtQtpzbynuA"
      },
      "source": [
        "def gencongru1(): \n",
        "    global Xant1\n",
        "    a = 134775813\n",
        "    c = 1\n",
        "    m = 2**32\n",
        "    Xnext = (a * Xant1 + c) % m\n",
        "    Xant1 = Xnext\n",
        "    U = Xnext / m\n",
        "    return U\n",
        "\n",
        "def gencongru2():\n",
        "    global Xant2\n",
        "    a = 1140671485\n",
        "    c = 12820163\n",
        "    m = 2**24\n",
        "    Xnext = (a * Xant2 + c) % m\n",
        "    Xant2 = Xnext\n",
        "    U = Xnext / m\n",
        "    return U\n",
        "\n",
        "def GenerarX():\n",
        "    vlambda = 3\n",
        "    U = gencongru1()\n",
        "    X = -(math.log(1-U))/float(vlambda)\n",
        "    return X\n",
        "\n",
        "def GenerarY():\n",
        "    vlambda = 7\n",
        "    U = gencongru2()\n",
        "    Y = -(math.log(1-U))/float(vlambda)\n",
        "    return Y\n",
        "\n",
        "def Llegada(tsuc):\n",
        "    global n, NLL, NS, t, S, Serv, LL, at, an\n",
        "    t=tsuc\n",
        "    n = n + 1\n",
        "    LLt.append(t)\n",
        "    at.append(t)\n",
        "    an.append(n)\n",
        "    \n",
        "    NLL = NLL + 1\n",
        "    LL.append(t)\n",
        "    \n",
        "    X = GenerarX()\n",
        "    \n",
        "    if (t+X) < T:\n",
        "        TSuc['tLL'] = t + X\n",
        "    if n==1:\n",
        "        Y = GenerarY()\n",
        "        TSuc['tS'] = t + Y\n",
        "        #Serv[NS]=Y \n",
        "        Serv.append(Y)\n",
        "        \n",
        "def Servidor(tsuc):\n",
        "    global n, NLL, NS, t, S, Serv, LL, at, an\n",
        "    t = tsuc\n",
        "    n = n - 1\n",
        "    \n",
        "    St.append(t)\n",
        "    at.append(t)\n",
        "    an.append(n)\n",
        "    \n",
        "    NS = NS + 1\n",
        "    S.append(t)\n",
        "\n",
        "    if n>0:\n",
        "        Y = GenerarY()\n",
        "        TSuc['tS'] = t + Y\n",
        "        Serv.append(Y) "
      ],
      "execution_count": 39,
      "outputs": []
    },
    {
      "cell_type": "code",
      "metadata": {
        "id": "Qhm4LMcGwGNe"
      },
      "source": [
        "for i in range(tamXi):\n",
        "  M = 99999.0\n",
        "  T = 40.0\n",
        "  at = []\n",
        "  an = []\n",
        "  LLt = []\n",
        "  St = []\n",
        "\n",
        "  t = tsuc = NLL = NS = n = 0\n",
        "\n",
        "  at.append(t)\n",
        "  an.append(n)\n",
        "\n",
        "  TSuc = {\"tLL\":M, \"tS\":M}\n",
        "\n",
        "  LL = []\n",
        "  S = []\n",
        "  Serv = []\n",
        "  LL.append(0.0)\n",
        "  S.append(0.0)\n",
        "  Serv.append(0.0)\n",
        "\n",
        "  X = GenerarX()\n",
        "\n",
        "  if X > T:\n",
        "      Tp = t_med_sistema = t_med_cola = 0.0\n",
        "      exit\n",
        "  else:\n",
        "      Llegada(X)\n",
        "      while((TSuc['tLL'] != M)|(TSuc['tS']!=M)):\n",
        "          if TSuc['tLL'] < TSuc['tS']:\n",
        "              tsuc = TSuc['tLL']\n",
        "              TSuc['tLL'] = M\n",
        "              Llegada(tsuc)\n",
        "              \n",
        "          if TSuc['tS'] < TSuc['tLL']:\n",
        "              tsuc = TSuc['tS']\n",
        "              TSuc['tS'] = M\n",
        "              Servidor(tsuc)\n",
        "\n",
        "      Tp = max(0,t-T)\n",
        "      acumulo1 = acumulo2 = 0.0\n",
        "      ind = 0\n",
        "      \n",
        "      while ind < NLL:\n",
        "          acumulo1 = acumulo1 + S[ind] - LL[ind]\n",
        "          acumulo2 = acumulo2 + S[ind] - LL[ind] - Serv[ind]\n",
        "          ind = ind + 1\n",
        "      t_med_sistema = acumulo1/NLL\n",
        "      t_med_cola = acumulo2/NLL\n",
        "\n",
        "      exit\n",
        "  an = np.array(an)\n",
        "  res.append([t_med_sistema, t_med_cola, Tp, max(an), NLL])"
      ],
      "execution_count": 50,
      "outputs": []
    },
    {
      "cell_type": "code",
      "metadata": {
        "id": "yvJNT3yEyumH"
      },
      "source": [
        "#at = np.array(at)\n",
        "#an = np.array(an)\n",
        "\n",
        "#LLt = np.array(LLt)\n",
        "#St = np.array(St)\n",
        "\n",
        "#tmp = np.zeros((len(LLt)))+1\n",
        "\n",
        "#plt.plot(LLt, tmp, 'r.')\n",
        "#plt.xlim(0, max(at))\n",
        "#plt.show()\n",
        "\n",
        "#tmp = np.zeros((len(St)))+1\n",
        "\n",
        "#plt.plot(St, tmp, 'b.')\n",
        "#plt.xlim(0, max(at))\n",
        "#plt.show()\n",
        "\n",
        "#plt.plot(at,an)\n",
        "#plt.xlabel('tiempo (t)')\n",
        "#plt.ylabel('numero de clientes en el sistema (n)')\n",
        "#plt.show()\n",
        "\n",
        "#print(\"Tiempo medio de los clientes en el sistema: \",t_med_sistema)\n",
        "#print(\"Tiempo medio de los clientes en la cola: \",t_med_cola)\n",
        "#print(\"Tiempo transcurrido desde T hasta que el último cliente abandona el sistema: \",Tp)\n",
        "#print(\"Número máximo de clientes en el sistema: \",max(an))\n",
        "#print(\"Total de clientes que pasaron por el sistema: \",NLL)\n"
      ],
      "execution_count": 42,
      "outputs": []
    },
    {
      "cell_type": "markdown",
      "metadata": {
        "id": "xLehQG4u7p2y"
      },
      "source": [
        "**Laboratorio 3**\n",
        "\n",
        "Laboratorio 3 -  Análisis Estadístico de Datos Simulados\n",
        "\n",
        "Usando la implementación de ejemplo del sistema de línea de espera con un servidor (Modelo de colas G/G/1) en Notebook Jupyter, implementar:\n",
        "\n",
        "La medida de desempeño de tiempo promedio en fila de los clientes (Xi) para una corrida de simulación i .\n",
        "\n",
        "Implementar el método recursivo para calcular la media de la muestra y la varianza de la muestra.\n",
        "\n",
        "Calcular la media de la muestra (sample mean) y la varianza de la muestra (sample variance) para:\n",
        "\n",
        "a. k=100 simulaciones.\n",
        "\n",
        "b. k=1000 simulaciones.\n",
        "\n",
        "c. k=10000 simulaciones."
      ]
    },
    {
      "cell_type": "code",
      "metadata": {
        "id": "9mULdE1x70Oh"
      },
      "source": [
        "\n",
        "#sample Mean \n",
        "def sampleMean(tam, lista):\n",
        "  listAux = []\n",
        "  for i in range(tam):\n",
        "    if i == 0 : \n",
        "      aux = lista[0][1]\n",
        "    else:\n",
        "      aux = listAux[i-1]+(lista[i][1]-listAux[i-1])/i\n",
        "    \n",
        "    listAux.append(aux)\n",
        "  return listAux\n",
        "\n",
        "#Sample Variance\n",
        "def sampleVariance(tam, lista, listMean):\n",
        "  listAux = []\n",
        "  for i in range(tam):\n",
        "    if i == 0:\n",
        "      aux = 0\n",
        "    else:\n",
        "      aux = (1-(1/i-1))*listAux[i-1] + i * (listMean[i] - listMean[i-1])**2\n",
        "\n",
        "    listAux.append(aux)\n",
        "  return listAux"
      ],
      "execution_count": 51,
      "outputs": []
    },
    {
      "cell_type": "code",
      "metadata": {
        "colab": {
          "base_uri": "https://localhost:8080/"
        },
        "id": "2U7BQbp_76Bs",
        "outputId": "9120ff05-6617-406a-a04f-5d237bcfd12b"
      },
      "source": [
        "k = 100\n",
        "listMean = sampleMean(k, res)\n",
        "listVariance = sampleVariance(k, res, listMean)\n",
        "\n",
        "print(\"K 100 --> Mean \",listMean[k-1],\" variance \",listVariance[k-1])\n",
        "\n",
        "k = 1000\n",
        "listMean = sampleMean(k, res)\n",
        "listVariance = sampleVariance(k, res, listMean)\n",
        "\n",
        "print(\"K 1000 --> Mean \",listMean[k-1],\" variance \",listVariance[k-1])\n",
        "\n",
        "k = 10000\n",
        "listMean = sampleMean(k, res)\n",
        "listVariance = sampleVariance(k, res, listMean)\n",
        "\n",
        "print(\"K 10000 --> Mean \",listMean[k-1],\" variance \",listVariance[k-1])"
      ],
      "execution_count": 52,
      "outputs": [
        {
          "output_type": "stream",
          "text": [
            "K 100 --> Mean  0.0909291274614163  variance  9.211410132326329e+25\n",
            "K 1000 --> Mean  0.09808975838292695  variance  2.4538673284968294e+296\n",
            "K 10000 --> Mean  0.09947332058520446  variance  inf\n"
          ],
          "name": "stdout"
        }
      ]
    },
    {
      "cell_type": "markdown",
      "metadata": {
        "id": "oofWPm4BOTFB"
      },
      "source": [
        ""
      ]
    }
  ]
}