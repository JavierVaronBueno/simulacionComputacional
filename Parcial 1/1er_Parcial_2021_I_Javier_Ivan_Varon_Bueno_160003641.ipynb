{
  "nbformat": 4,
  "nbformat_minor": 0,
  "metadata": {
    "colab": {
      "name": "1er_Parcial_2021_I_Javier_Ivan_Varon_Bueno_160003641.ipynb",
      "provenance": [],
      "collapsed_sections": []
    },
    "kernelspec": {
      "name": "python3",
      "display_name": "Python 3"
    },
    "language_info": {
      "name": "python"
    }
  },
  "cells": [
    {
      "cell_type": "markdown",
      "metadata": {
        "id": "Oj_xK1WWEYXx"
      },
      "source": [
        "## 1.  (1.0 punto)\n",
        "Para los siguientes generadores congruenciales mixtos encuentre $u_1,...,u_{100}$, el tamaño del ciclo (si lo tiene) y calcule el estadístico $\\chi^2$\n",
        "\n",
        "**a)** $x_0=123, x_n = (7x_{n-1}+3) \\mod 21$"
      ]
    },
    {
      "cell_type": "code",
      "metadata": {
        "id": "4CLy5BrwBqV3",
        "colab": {
          "base_uri": "https://localhost:8080/",
          "height": 1000
        },
        "outputId": "a54500c1-3f5b-40ee-ef2f-6cc0073a4cf6"
      },
      "source": [
        "import matplotlib.pyplot as plt\n",
        "from scipy import stats\n",
        "\n",
        "def genranN(a,c,m,x0,N):\n",
        "    x_Anterior = x0\n",
        "    X=[x0]\n",
        "    U=[\"-\"]\n",
        "    for i in range(0, N):\n",
        "        x_Siguiente = (a*x_Anterior + c) % m\n",
        "        X.append(x_Siguiente)\n",
        "        U.append(x_Siguiente/m)\n",
        "        x_Anterior = x_Siguiente\n",
        "\n",
        "        \n",
        "    print(\"i\\t Xi\\t Ui\")\n",
        "    for i in range(0,N):\n",
        "      print(i+1,\"\\t\",X[i],\"\\t\",U[i])\n",
        "\n",
        "    k=100\n",
        "    count, bins, ignored = plt.hist(U, k)\n",
        "    chiest=0\n",
        "    for i in range(0,k):\n",
        "        chiest = chiest + ((count[i]-(N/k))**2)/(N/k)\n",
        "    print(\"Estadístico chi2 = \"+str(chiest))\n",
        "\n",
        "genranN(7,3,21,123,100)"
      ],
      "execution_count": null,
      "outputs": [
        {
          "output_type": "stream",
          "text": [
            "i\t Xi\t Ui\n",
            "1 \t 123 \t -\n",
            "2 \t 3 \t 0.14285714285714285\n",
            "3 \t 3 \t 0.14285714285714285\n",
            "4 \t 3 \t 0.14285714285714285\n",
            "5 \t 3 \t 0.14285714285714285\n",
            "6 \t 3 \t 0.14285714285714285\n",
            "7 \t 3 \t 0.14285714285714285\n",
            "8 \t 3 \t 0.14285714285714285\n",
            "9 \t 3 \t 0.14285714285714285\n",
            "10 \t 3 \t 0.14285714285714285\n",
            "11 \t 3 \t 0.14285714285714285\n",
            "12 \t 3 \t 0.14285714285714285\n",
            "13 \t 3 \t 0.14285714285714285\n",
            "14 \t 3 \t 0.14285714285714285\n",
            "15 \t 3 \t 0.14285714285714285\n",
            "16 \t 3 \t 0.14285714285714285\n",
            "17 \t 3 \t 0.14285714285714285\n",
            "18 \t 3 \t 0.14285714285714285\n",
            "19 \t 3 \t 0.14285714285714285\n",
            "20 \t 3 \t 0.14285714285714285\n",
            "21 \t 3 \t 0.14285714285714285\n",
            "22 \t 3 \t 0.14285714285714285\n",
            "23 \t 3 \t 0.14285714285714285\n",
            "24 \t 3 \t 0.14285714285714285\n",
            "25 \t 3 \t 0.14285714285714285\n",
            "26 \t 3 \t 0.14285714285714285\n",
            "27 \t 3 \t 0.14285714285714285\n",
            "28 \t 3 \t 0.14285714285714285\n",
            "29 \t 3 \t 0.14285714285714285\n",
            "30 \t 3 \t 0.14285714285714285\n",
            "31 \t 3 \t 0.14285714285714285\n",
            "32 \t 3 \t 0.14285714285714285\n",
            "33 \t 3 \t 0.14285714285714285\n",
            "34 \t 3 \t 0.14285714285714285\n",
            "35 \t 3 \t 0.14285714285714285\n",
            "36 \t 3 \t 0.14285714285714285\n",
            "37 \t 3 \t 0.14285714285714285\n",
            "38 \t 3 \t 0.14285714285714285\n",
            "39 \t 3 \t 0.14285714285714285\n",
            "40 \t 3 \t 0.14285714285714285\n",
            "41 \t 3 \t 0.14285714285714285\n",
            "42 \t 3 \t 0.14285714285714285\n",
            "43 \t 3 \t 0.14285714285714285\n",
            "44 \t 3 \t 0.14285714285714285\n",
            "45 \t 3 \t 0.14285714285714285\n",
            "46 \t 3 \t 0.14285714285714285\n",
            "47 \t 3 \t 0.14285714285714285\n",
            "48 \t 3 \t 0.14285714285714285\n",
            "49 \t 3 \t 0.14285714285714285\n",
            "50 \t 3 \t 0.14285714285714285\n",
            "51 \t 3 \t 0.14285714285714285\n",
            "52 \t 3 \t 0.14285714285714285\n",
            "53 \t 3 \t 0.14285714285714285\n",
            "54 \t 3 \t 0.14285714285714285\n",
            "55 \t 3 \t 0.14285714285714285\n",
            "56 \t 3 \t 0.14285714285714285\n",
            "57 \t 3 \t 0.14285714285714285\n",
            "58 \t 3 \t 0.14285714285714285\n",
            "59 \t 3 \t 0.14285714285714285\n",
            "60 \t 3 \t 0.14285714285714285\n",
            "61 \t 3 \t 0.14285714285714285\n",
            "62 \t 3 \t 0.14285714285714285\n",
            "63 \t 3 \t 0.14285714285714285\n",
            "64 \t 3 \t 0.14285714285714285\n",
            "65 \t 3 \t 0.14285714285714285\n",
            "66 \t 3 \t 0.14285714285714285\n",
            "67 \t 3 \t 0.14285714285714285\n",
            "68 \t 3 \t 0.14285714285714285\n",
            "69 \t 3 \t 0.14285714285714285\n",
            "70 \t 3 \t 0.14285714285714285\n",
            "71 \t 3 \t 0.14285714285714285\n",
            "72 \t 3 \t 0.14285714285714285\n",
            "73 \t 3 \t 0.14285714285714285\n",
            "74 \t 3 \t 0.14285714285714285\n",
            "75 \t 3 \t 0.14285714285714285\n",
            "76 \t 3 \t 0.14285714285714285\n",
            "77 \t 3 \t 0.14285714285714285\n",
            "78 \t 3 \t 0.14285714285714285\n",
            "79 \t 3 \t 0.14285714285714285\n",
            "80 \t 3 \t 0.14285714285714285\n",
            "81 \t 3 \t 0.14285714285714285\n",
            "82 \t 3 \t 0.14285714285714285\n",
            "83 \t 3 \t 0.14285714285714285\n",
            "84 \t 3 \t 0.14285714285714285\n",
            "85 \t 3 \t 0.14285714285714285\n",
            "86 \t 3 \t 0.14285714285714285\n",
            "87 \t 3 \t 0.14285714285714285\n",
            "88 \t 3 \t 0.14285714285714285\n",
            "89 \t 3 \t 0.14285714285714285\n",
            "90 \t 3 \t 0.14285714285714285\n",
            "91 \t 3 \t 0.14285714285714285\n",
            "92 \t 3 \t 0.14285714285714285\n",
            "93 \t 3 \t 0.14285714285714285\n",
            "94 \t 3 \t 0.14285714285714285\n",
            "95 \t 3 \t 0.14285714285714285\n",
            "96 \t 3 \t 0.14285714285714285\n",
            "97 \t 3 \t 0.14285714285714285\n",
            "98 \t 3 \t 0.14285714285714285\n",
            "99 \t 3 \t 0.14285714285714285\n",
            "100 \t 3 \t 0.14285714285714285\n",
            "Estadístico chi2 = 9899.0\n"
          ],
          "name": "stdout"
        },
        {
          "output_type": "display_data",
          "data": {
            "image/png": "[encoded data removed]",
            "text/plain": [
              "<Figure size 432x288 with 1 Axes>"
            ]
          },
          "metadata": {
            "tags": [],
            "needs_background": "light"
          }
        }
      ]
    },
    {
      "cell_type": "markdown",
      "metadata": {
        "id": "X_2B2NxCFBkL"
      },
      "source": [
        "**b)** $x_0=7, x_n = (5x_{n-1}+7) \\mod 200$"
      ]
    },
    {
      "cell_type": "code",
      "metadata": {
        "id": "YtgokV5UFFkF",
        "colab": {
          "base_uri": "https://localhost:8080/",
          "height": 1000
        },
        "outputId": "9a8e7422-b4c3-4555-b728-9e68d7eaaf0e"
      },
      "source": [
        "import matplotlib.pyplot as plt\n",
        "from scipy import stats\n",
        "\n",
        "def genranN(a,c,m,x0,N):\n",
        "    x_Anterior = x0\n",
        "    X=[x0]\n",
        "    U=[\"-\"]\n",
        "    for i in range(0, N):\n",
        "        x_Siguiente = (a*x_Anterior + c) % m\n",
        "        X.append(x_Siguiente)\n",
        "        U.append(x_Siguiente/m)\n",
        "        x_Anterior = x_Siguiente\n",
        "\n",
        "        \n",
        "    print(\"i\\t Xi\\t Ui\")\n",
        "    for i in range(0,N):\n",
        "      print(i+1,\"\\t\",X[i],\"\\t\",U[i])\n",
        "    \n",
        "    k=100\n",
        "    count, bins, ignored = plt.hist(U, k)\n",
        "    chiest=0\n",
        "    for i in range(0,k):\n",
        "        chiest = chiest + ((count[i]-(N/k))**2)/(N/k)\n",
        "    print(\"Estadístico chi2 = \"+str(chiest))\n",
        "\n",
        "genranN(5,7,200,7,100)"
      ],
      "execution_count": null,
      "outputs": [
        {
          "output_type": "stream",
          "text": [
            "i\t Xi\t Ui\n",
            "1 \t 7 \t -\n",
            "2 \t 42 \t 0.21\n",
            "3 \t 17 \t 0.085\n",
            "4 \t 92 \t 0.46\n",
            "5 \t 67 \t 0.335\n",
            "6 \t 142 \t 0.71\n",
            "7 \t 117 \t 0.585\n",
            "8 \t 192 \t 0.96\n",
            "9 \t 167 \t 0.835\n",
            "10 \t 42 \t 0.21\n",
            "11 \t 17 \t 0.085\n",
            "12 \t 92 \t 0.46\n",
            "13 \t 67 \t 0.335\n",
            "14 \t 142 \t 0.71\n",
            "15 \t 117 \t 0.585\n",
            "16 \t 192 \t 0.96\n",
            "17 \t 167 \t 0.835\n",
            "18 \t 42 \t 0.21\n",
            "19 \t 17 \t 0.085\n",
            "20 \t 92 \t 0.46\n",
            "21 \t 67 \t 0.335\n",
            "22 \t 142 \t 0.71\n",
            "23 \t 117 \t 0.585\n",
            "24 \t 192 \t 0.96\n",
            "25 \t 167 \t 0.835\n",
            "26 \t 42 \t 0.21\n",
            "27 \t 17 \t 0.085\n",
            "28 \t 92 \t 0.46\n",
            "29 \t 67 \t 0.335\n",
            "30 \t 142 \t 0.71\n",
            "31 \t 117 \t 0.585\n",
            "32 \t 192 \t 0.96\n",
            "33 \t 167 \t 0.835\n",
            "34 \t 42 \t 0.21\n",
            "35 \t 17 \t 0.085\n",
            "36 \t 92 \t 0.46\n",
            "37 \t 67 \t 0.335\n",
            "38 \t 142 \t 0.71\n",
            "39 \t 117 \t 0.585\n",
            "40 \t 192 \t 0.96\n",
            "41 \t 167 \t 0.835\n",
            "42 \t 42 \t 0.21\n",
            "43 \t 17 \t 0.085\n",
            "44 \t 92 \t 0.46\n",
            "45 \t 67 \t 0.335\n",
            "46 \t 142 \t 0.71\n",
            "47 \t 117 \t 0.585\n",
            "48 \t 192 \t 0.96\n",
            "49 \t 167 \t 0.835\n",
            "50 \t 42 \t 0.21\n",
            "51 \t 17 \t 0.085\n",
            "52 \t 92 \t 0.46\n",
            "53 \t 67 \t 0.335\n",
            "54 \t 142 \t 0.71\n",
            "55 \t 117 \t 0.585\n",
            "56 \t 192 \t 0.96\n",
            "57 \t 167 \t 0.835\n",
            "58 \t 42 \t 0.21\n",
            "59 \t 17 \t 0.085\n",
            "60 \t 92 \t 0.46\n",
            "61 \t 67 \t 0.335\n",
            "62 \t 142 \t 0.71\n",
            "63 \t 117 \t 0.585\n",
            "64 \t 192 \t 0.96\n",
            "65 \t 167 \t 0.835\n",
            "66 \t 42 \t 0.21\n",
            "67 \t 17 \t 0.085\n",
            "68 \t 92 \t 0.46\n",
            "69 \t 67 \t 0.335\n",
            "70 \t 142 \t 0.71\n",
            "71 \t 117 \t 0.585\n",
            "72 \t 192 \t 0.96\n",
            "73 \t 167 \t 0.835\n",
            "74 \t 42 \t 0.21\n",
            "75 \t 17 \t 0.085\n",
            "76 \t 92 \t 0.46\n",
            "77 \t 67 \t 0.335\n",
            "78 \t 142 \t 0.71\n",
            "79 \t 117 \t 0.585\n",
            "80 \t 192 \t 0.96\n",
            "81 \t 167 \t 0.835\n",
            "82 \t 42 \t 0.21\n",
            "83 \t 17 \t 0.085\n",
            "84 \t 92 \t 0.46\n",
            "85 \t 67 \t 0.335\n",
            "86 \t 142 \t 0.71\n",
            "87 \t 117 \t 0.585\n",
            "88 \t 192 \t 0.96\n",
            "89 \t 167 \t 0.835\n",
            "90 \t 42 \t 0.21\n",
            "91 \t 17 \t 0.085\n",
            "92 \t 92 \t 0.46\n",
            "93 \t 67 \t 0.335\n",
            "94 \t 142 \t 0.71\n",
            "95 \t 117 \t 0.585\n",
            "96 \t 192 \t 0.96\n",
            "97 \t 167 \t 0.835\n",
            "98 \t 42 \t 0.21\n",
            "99 \t 17 \t 0.085\n",
            "100 \t 92 \t 0.46\n",
            "Estadístico chi2 = 1151.0\n"
          ],
          "name": "stdout"
        },
        {
          "output_type": "display_data",
          "data": {
            "image/png": "[encoded data removed]",
            "text/plain": [
              "<Figure size 432x288 with 1 Axes>"
            ]
          },
          "metadata": {
            "tags": [],
            "needs_background": "light"
          }
        }
      ]
    },
    {
      "cell_type": "markdown",
      "metadata": {
        "id": "UUT1mqolFQZN"
      },
      "source": [
        "**c)** $x_0=5, x_n = (5x_{n-1}+3) \\mod 33$"
      ]
    },
    {
      "cell_type": "code",
      "metadata": {
        "id": "Et_FntehFWJd",
        "colab": {
          "base_uri": "https://localhost:8080/",
          "height": 1000
        },
        "outputId": "e8aac1ab-6db3-453c-cf7c-f3ffadd64dab"
      },
      "source": [
        "import matplotlib.pyplot as plt\n",
        "from scipy import stats\n",
        "\n",
        "def genranN(a,c,m,x0,N):\n",
        "    x_Anterior = x0\n",
        "    X=[x0]\n",
        "    U=[\"-\"]\n",
        "    for i in range(0, N):\n",
        "        x_Siguiente = (a*x_Anterior + c) % m\n",
        "        X.append(x_Siguiente)\n",
        "        U.append(x_Siguiente/m)\n",
        "        x_Anterior = x_Siguiente\n",
        "\n",
        "        \n",
        "    print(\"i\\t Xi\\t Ui\")\n",
        "    for i in range(0,N):\n",
        "      print(i+1,\"\\t\",X[i],\"\\t\",U[i])\n",
        "    \n",
        "    k=100\n",
        "    count, bins, ignored = plt.hist(U, k)\n",
        "    chiest=0\n",
        "    for i in range(0,k):\n",
        "        chiest = chiest + ((count[i]-(N/k))**2)/(N/k)\n",
        "    print(\"Estadístico chi2 = \"+str(chiest))\n",
        "\n",
        "genranN(5,3,33,5,100)"
      ],
      "execution_count": null,
      "outputs": [
        {
          "output_type": "stream",
          "text": [
            "i\t Xi\t Ui\n",
            "1 \t 5 \t -\n",
            "2 \t 28 \t 0.8484848484848485\n",
            "3 \t 11 \t 0.3333333333333333\n",
            "4 \t 25 \t 0.7575757575757576\n",
            "5 \t 29 \t 0.8787878787878788\n",
            "6 \t 16 \t 0.48484848484848486\n",
            "7 \t 17 \t 0.5151515151515151\n",
            "8 \t 22 \t 0.6666666666666666\n",
            "9 \t 14 \t 0.42424242424242425\n",
            "10 \t 7 \t 0.21212121212121213\n",
            "11 \t 5 \t 0.15151515151515152\n",
            "12 \t 28 \t 0.8484848484848485\n",
            "13 \t 11 \t 0.3333333333333333\n",
            "14 \t 25 \t 0.7575757575757576\n",
            "15 \t 29 \t 0.8787878787878788\n",
            "16 \t 16 \t 0.48484848484848486\n",
            "17 \t 17 \t 0.5151515151515151\n",
            "18 \t 22 \t 0.6666666666666666\n",
            "19 \t 14 \t 0.42424242424242425\n",
            "20 \t 7 \t 0.21212121212121213\n",
            "21 \t 5 \t 0.15151515151515152\n",
            "22 \t 28 \t 0.8484848484848485\n",
            "23 \t 11 \t 0.3333333333333333\n",
            "24 \t 25 \t 0.7575757575757576\n",
            "25 \t 29 \t 0.8787878787878788\n",
            "26 \t 16 \t 0.48484848484848486\n",
            "27 \t 17 \t 0.5151515151515151\n",
            "28 \t 22 \t 0.6666666666666666\n",
            "29 \t 14 \t 0.42424242424242425\n",
            "30 \t 7 \t 0.21212121212121213\n",
            "31 \t 5 \t 0.15151515151515152\n",
            "32 \t 28 \t 0.8484848484848485\n",
            "33 \t 11 \t 0.3333333333333333\n",
            "34 \t 25 \t 0.7575757575757576\n",
            "35 \t 29 \t 0.8787878787878788\n",
            "36 \t 16 \t 0.48484848484848486\n",
            "37 \t 17 \t 0.5151515151515151\n",
            "38 \t 22 \t 0.6666666666666666\n",
            "39 \t 14 \t 0.42424242424242425\n",
            "40 \t 7 \t 0.21212121212121213\n",
            "41 \t 5 \t 0.15151515151515152\n",
            "42 \t 28 \t 0.8484848484848485\n",
            "43 \t 11 \t 0.3333333333333333\n",
            "44 \t 25 \t 0.7575757575757576\n",
            "45 \t 29 \t 0.8787878787878788\n",
            "46 \t 16 \t 0.48484848484848486\n",
            "47 \t 17 \t 0.5151515151515151\n",
            "48 \t 22 \t 0.6666666666666666\n",
            "49 \t 14 \t 0.42424242424242425\n",
            "50 \t 7 \t 0.21212121212121213\n",
            "51 \t 5 \t 0.15151515151515152\n",
            "52 \t 28 \t 0.8484848484848485\n",
            "53 \t 11 \t 0.3333333333333333\n",
            "54 \t 25 \t 0.7575757575757576\n",
            "55 \t 29 \t 0.8787878787878788\n",
            "56 \t 16 \t 0.48484848484848486\n",
            "57 \t 17 \t 0.5151515151515151\n",
            "58 \t 22 \t 0.6666666666666666\n",
            "59 \t 14 \t 0.42424242424242425\n",
            "60 \t 7 \t 0.21212121212121213\n",
            "61 \t 5 \t 0.15151515151515152\n",
            "62 \t 28 \t 0.8484848484848485\n",
            "63 \t 11 \t 0.3333333333333333\n",
            "64 \t 25 \t 0.7575757575757576\n",
            "65 \t 29 \t 0.8787878787878788\n",
            "66 \t 16 \t 0.48484848484848486\n",
            "67 \t 17 \t 0.5151515151515151\n",
            "68 \t 22 \t 0.6666666666666666\n",
            "69 \t 14 \t 0.42424242424242425\n",
            "70 \t 7 \t 0.21212121212121213\n",
            "71 \t 5 \t 0.15151515151515152\n",
            "72 \t 28 \t 0.8484848484848485\n",
            "73 \t 11 \t 0.3333333333333333\n",
            "74 \t 25 \t 0.7575757575757576\n",
            "75 \t 29 \t 0.8787878787878788\n",
            "76 \t 16 \t 0.48484848484848486\n",
            "77 \t 17 \t 0.5151515151515151\n",
            "78 \t 22 \t 0.6666666666666666\n",
            "79 \t 14 \t 0.42424242424242425\n",
            "80 \t 7 \t 0.21212121212121213\n",
            "81 \t 5 \t 0.15151515151515152\n",
            "82 \t 28 \t 0.8484848484848485\n",
            "83 \t 11 \t 0.3333333333333333\n",
            "84 \t 25 \t 0.7575757575757576\n",
            "85 \t 29 \t 0.8787878787878788\n",
            "86 \t 16 \t 0.48484848484848486\n",
            "87 \t 17 \t 0.5151515151515151\n",
            "88 \t 22 \t 0.6666666666666666\n",
            "89 \t 14 \t 0.42424242424242425\n",
            "90 \t 7 \t 0.21212121212121213\n",
            "91 \t 5 \t 0.15151515151515152\n",
            "92 \t 28 \t 0.8484848484848485\n",
            "93 \t 11 \t 0.3333333333333333\n",
            "94 \t 25 \t 0.7575757575757576\n",
            "95 \t 29 \t 0.8787878787878788\n",
            "96 \t 16 \t 0.48484848484848486\n",
            "97 \t 17 \t 0.5151515151515151\n",
            "98 \t 22 \t 0.6666666666666666\n",
            "99 \t 14 \t 0.42424242424242425\n",
            "100 \t 7 \t 0.21212121212121213\n",
            "Estadístico chi2 = 899.0\n"
          ],
          "name": "stdout"
        },
        {
          "output_type": "display_data",
          "data": {
            "image/png": "[encoded data removed]",
            "text/plain": [
              "<Figure size 432x288 with 1 Axes>"
            ]
          },
          "metadata": {
            "tags": [],
            "needs_background": "light"
          }
        }
      ]
    },
    {
      "cell_type": "markdown",
      "metadata": {
        "id": "u58601WyFfdX"
      },
      "source": [
        "## 2. (1.0 punto)\n",
        "Para las siguientes integrales, use simulación con el generado congruencial mixto $x_0=6789, x_n = (25214903917 x_{n-1}+11) \\mod (2^{48}-1)$ para aproximar el valor de las integrales usando el método de Monte Carlo generando $N=10000$ números aleatorios.\n",
        "\n",
        "**a)** $\\int_{0}^{1}e ^{sin(x)}dx$"
      ]
    },
    {
      "cell_type": "code",
      "metadata": {
        "id": "OF0zvHajFvan",
        "colab": {
          "base_uri": "https://localhost:8080/"
        },
        "outputId": "00c2ce99-1d11-4ee8-c05e-af94b7c6e78a"
      },
      "source": [
        "import numpy as np\n",
        "import time\n",
        "\n",
        "def Calculo(a,c,m,x0,N):\n",
        "    x_Anterior = x0\n",
        "    X=[x0]\n",
        "    U=[\"-\"]\n",
        "    for i in range(0, N):\n",
        "        x_Siguiente = (a*x_Anterior + c) % m\n",
        "        X.append(x_Siguiente)\n",
        "        U.append(x_Siguiente/m)\n",
        "        x_Anterior = x_Siguiente\n",
        "\n",
        "    start_time = time.time()\n",
        "    np.random.seed(0)\n",
        "\n",
        "    n = 0\n",
        "    suma = 0\n",
        "    cont = 0\n",
        "    while ( n < N ):\n",
        "        x = X[cont]\n",
        "        y = np.exp(np.sin(x))\n",
        "        suma = suma + y \n",
        "        n = n + 1\n",
        "        cont +=1\n",
        "    print('n: %d \\t Resultado: %6.6f \\t %6.6f segundos'% (N ,  (suma/n),(time.time() - start_time)))\n",
        "\n",
        "\n",
        "Calculo(25214903917, 11, (2**48)-1, 22, 10000)"
      ],
      "execution_count": null,
      "outputs": [
        {
          "output_type": "stream",
          "text": [
            "n: 10000 \t Resultado: 1.272805 \t 0.030672 segundos\n"
          ],
          "name": "stdout"
        }
      ]
    },
    {
      "cell_type": "markdown",
      "metadata": {
        "id": "rBUCXsA_F5FC"
      },
      "source": [
        "**b)** $\\int_{0}^{1}(\\sin(1+x^{2}))^{3/2}dx$"
      ]
    },
    {
      "cell_type": "code",
      "metadata": {
        "id": "cwdhxhzXF1mT",
        "colab": {
          "base_uri": "https://localhost:8080/"
        },
        "outputId": "ac1ee9d2-a9de-40cf-ec1e-419e28da09c3"
      },
      "source": [
        "import numpy as np\n",
        "import time\n",
        "\n",
        "def Calculo(a,c,m,x0,N):\n",
        "    x_Anterior = x0\n",
        "    X=[x0]\n",
        "    U=[\"-\"]\n",
        "    for i in range(0, N):\n",
        "        x_Siguiente = (a*x_Anterior + c) % m\n",
        "        X.append(x_Siguiente)\n",
        "        U.append(x_Siguiente/m)\n",
        "        x_Anterior = x_Siguiente\n",
        "\n",
        "    start_time = time.time()\n",
        "    np.random.seed(0)\n",
        "\n",
        "    n = 0\n",
        "    suma = 0\n",
        "    cont = 1\n",
        "    while ( n < N ):\n",
        "        x = (U[cont]**2.0)+1.0\n",
        "        y = (np.sin(x))**3/2\n",
        "        suma = suma + y \n",
        "        n = n + 1\n",
        "        cont +=1\n",
        "    print('n: %d \\t Resultado: %6.6f \\t %6.6f segundos'% (N ,  (suma/n),(time.time() - start_time)))\n",
        "\n",
        "\n",
        "Calculo(25214903917, 11, (2**48)-1, 22, 10000)"
      ],
      "execution_count": null,
      "outputs": [
        {
          "output_type": "stream",
          "text": [
            "n: 10000 \t Resultado: 0.403863 \t 0.025313 segundos\n"
          ],
          "name": "stdout"
        }
      ]
    },
    {
      "cell_type": "markdown",
      "metadata": {
        "id": "vUthH7KuFwHF"
      },
      "source": [
        "**c)** $\\int_{-3}^{3}e^{sin(x)-x^{3}}dx$"
      ]
    },
    {
      "cell_type": "code",
      "metadata": {
        "id": "KCZouQuoF7pj",
        "colab": {
          "base_uri": "https://localhost:8080/"
        },
        "outputId": "e8a211c7-b8e6-46b9-b255-b4e5175bfa8f"
      },
      "source": [
        "import numpy as np\n",
        "import time\n",
        "\n",
        "def Calculo(li,ls,a,c,m,x0,N):\n",
        "    x_Anterior = x0\n",
        "    X=[x0]\n",
        "    U=[\"-\"]\n",
        "    for i in range(0, N):\n",
        "        x_Siguiente = (a*x_Anterior + c) % m\n",
        "        X.append(x_Siguiente)\n",
        "        U.append(x_Siguiente/m)\n",
        "        x_Anterior = x_Siguiente\n",
        "\n",
        "    start_time = time.time()\n",
        "    np.random.seed(0)\n",
        "\n",
        "    n = 0\n",
        "    suma = 0\n",
        "    cont = 1\n",
        "    while ( n < N ):\n",
        "        x = li + (ls - li) *U[cont]\n",
        "        y = np.exp(np.sin(x) - (x**3))\n",
        "        suma = suma + y \n",
        "        n = n + 1\n",
        "        cont +=1\n",
        "    print('n: %d \\t Resultado: %6.6f \\t %6.6f segundos'% (N ,  (((ls-li)/N)*suma),(time.time() - start_time)))\n",
        "\n",
        "\n",
        "Calculo(-3,3,25214903917, 11, (2**48)-1, 22, 10000)"
      ],
      "execution_count": null,
      "outputs": [
        {
          "output_type": "stream",
          "text": [
            "n: 10000 \t Resultado: 18462810574.362709 \t 0.032708 segundos\n"
          ],
          "name": "stdout"
        }
      ]
    },
    {
      "cell_type": "markdown",
      "metadata": {
        "id": "dWYhHEUTGW5A"
      },
      "source": [
        "## 3. (1.0 punto)\n",
        "Dados los siguientes valores de la distribución de probabilidad discreta de la variable aleatoria $X$ de un dado de 8 lados: $X = {1,2,3,4,5,6,7,8}$, $p(X) = {0.10,0.31,0.10,0.2,0.07,0.07,0.06,0.09}$, ¿Qué valores retornaría el generador de variables aleatorias por el método de la inversión si los números aleatorios generados son: $U = {0.35014182, 0.87708793, 0.52379452, 0.0447526, 0.54774661, 0.6196029, 0.3441538, 0.73337535, 0.07469272, 0.26630949, 0.86511188, 0.23636937, 0.14654901, 0.99086038, 0.25433344, 0.57768673, 0.33816577, 0.58966278, 0.62559092, 0.48786637}$"
      ]
    },
    {
      "cell_type": "code",
      "metadata": {
        "id": "h_igmjm4HW7I",
        "colab": {
          "base_uri": "https://localhost:8080/"
        },
        "outputId": "8ddfbdcd-36f0-43d5-e368-0d69b64b2768"
      },
      "source": [
        "import numpy as np\n",
        "def generadorDiscreto(U,X,P):\n",
        "    V = []\n",
        "    for i in range(0, len(U)):\n",
        "        for j in range(0, len(X)):\n",
        "            if U[i]<=P[j]:\n",
        "                V.append(X[j])\n",
        "                break\n",
        "    return V\n",
        "U = [0.35014182,0.87708793,0.52379452,0.0447526,0.54774661,0.6196029,0.3441538,0.73337535,0.07469272,0.26630949,0.86511188,0.23636937,0.14654901,0.99086038,0.25433344,0.57768673,0.33816577,0.58966278,0.62559092,0.48786637]\n",
        "X = [1,2,3,4,5,6,7,8]\n",
        "p = [0.10,0.31,0.10,0.2,0.07,0.07,0.06,0.09]\n",
        "P = np.cumsum(p)\n",
        "\n",
        "V = generadorDiscreto(U,X,P)\n",
        "print(V)"
      ],
      "execution_count": 7,
      "outputs": [
        {
          "output_type": "stream",
          "text": [
            "[2, 7, 4, 1, 4, 4, 2, 5, 1, 2, 7, 2, 2, 8, 2, 4, 2, 4, 4, 3]\n"
          ],
          "name": "stdout"
        }
      ]
    },
    {
      "cell_type": "markdown",
      "metadata": {
        "id": "_tWtNchwIRIW"
      },
      "source": [
        "## 4.  (1.0 punto)\n",
        "Implemente un sistema de cola simple de clientes atendidos por un cajero de un banco, similar al Ejemplo 1 (Ad Hoc Simulation) del Capítulo 1 de [Banks98], generando las variables aleatorias discretas tanto del número de minutos entre las llegadas de un cliente y otro al banco ($X$), así como del numero de minutos que le toma al cajero atender un cliente ($Y$) para un total de **200 clientes**, donde: <br><br>\n",
        "$X$ es una distribución de Poisson con $\\lambda = 10$<br>\n",
        "$Y$ es una distribución de probabilidad discreta así:<br>\n",
        "$Y = [1, 2, 3, 4, 5, 6, 7, 8, 9, 10, 11, 12, 13, 14, 15]$<br>\n",
        "$p(Y) = [0.01, 0.02, 0.02, 0.02, 0.02, 0.025, 0.03, 0.05, 0.08, 0.09, 0.11, 0.15, 0.2, 0.125, 0.05]$<br><br>\n",
        "\n",
        "Calcular:<br>\n",
        "**a)** Tiempo promedio en el sistema<br>\n",
        "**b)** El intervalo de confianza del 95% ($\\alpha = 0.05$) de la medida de desempeño del *tiempo promedio en el sistema* (*Average time in system*) para 10 repeticiones.  "
      ]
    },
    {
      "cell_type": "code",
      "metadata": {
        "id": "Z6fmjLqgJFDC",
        "colab": {
          "base_uri": "https://localhost:8080/",
          "height": 498
        },
        "outputId": "354dbeda-d3c9-43a6-be67-0c93f3c31123"
      },
      "source": [
        "import time\n",
        "from scipy import stats\n",
        "def genran(a,b,m,xant):\n",
        "    xsig = (a*xant + b) % m\n",
        "    usig = xsig / m\n",
        "    return [xsig,usig]\n",
        "\n",
        "def genranN(a,b,m,x0,N):\n",
        "    xant = x0\n",
        "    I=[]\n",
        "    X=[]\n",
        "    U=[]\n",
        "    for t in range(1, N+1):\n",
        "        [xi,ui] = genran(a,b,m,xant)\n",
        "        I.append(t)\n",
        "        X.append(xi)\n",
        "        U.append(ui)\n",
        "        xant = xi\n",
        "    return [I,X,U]\n",
        "\n",
        "def genpoisson(U,L):\n",
        "    i=0\n",
        "    px=np.exp(-L)\n",
        "    Fx=px\n",
        "\n",
        "    while True:\n",
        "      if U < Fx:\n",
        "        Xi = i\n",
        "        return Xi\n",
        "        break\n",
        "      px = (L*px)/(i+1)\n",
        "      Fx = Fx + px\n",
        "      i = i + 1\n",
        "\n",
        "def genpoissonN(Ui,L,N):\n",
        "  X=[]\n",
        "  for i in range(0,len(Ui)):\n",
        "      xi = genpoisson(Ui[i],L)\n",
        "      X.append(xi)\n",
        "  return X\n",
        "\n",
        "def genvardiscret(U,X,P):\n",
        "    V = []\n",
        "    for t in range(0, len(U)):\n",
        "        for t2 in range(0, len(X)):\n",
        "            if U[t]<=P[t2]:\n",
        "                V.append(X[t2])\n",
        "                break\n",
        "    return V\n",
        "\n",
        "N = 200\n",
        "\n",
        "a1 = 65539.0\n",
        "b1 = 0.0\n",
        "m1 = (2**31)\n",
        "\n",
        "a2 = 1664525.0\n",
        "b2 = 1013904223.0\n",
        "m2 = (2**32)\n",
        "\n",
        "# Generamos los valores aleatorios de una distribución uniforme U(0,1) para su posterior uso para generar las variables aleatorias X y Y\n",
        "# para ello usamos semillas (x0) diferentes y los almacenamos en los arreglos Ux y Uy respectivamente\n",
        "x0 = int(round(time.time() * 1000))\n",
        "[Ix,Xx,Ux] = genranN(a1,b1,m1,x0,N)\n",
        "\n",
        "x0 = int(round(time.time() * 1000))\n",
        "[Iy,Xy,Uy] = genranN(a2,b2,m2,x0,N)\n",
        "\n",
        "# se define el parámetro lambda de la distribución de Poisson para la generación de las variables aleatorias\n",
        "L = 10\n",
        "Xi = genpoissonN(Ux,L,N)\n",
        "print('Xi='+str(Xi))\n",
        "\n",
        "y = [1,2,3,4,5,6,7,8,9,10,11,12,13,14,15]\n",
        "py = [0.01,0.02,0.02,0.02,0.02,0.025,0.03,0.05,0.08,0.09,0.11,0.15,0.2,0.125,0.05]\n",
        "P = np.cumsum(py)\n",
        "Yi = genvardiscret(Uy,y,P)\n",
        "print('Yi='+str(Yi))\n",
        "\n",
        "import pandas as pd\n",
        "pd.options.mode.chained_assignment = None  # default='warn'\n",
        "\n",
        "ids = np.arange(1,N+1)\n",
        "\n",
        "TLL = np.cumsum(Xi)\n",
        "\n",
        "d = {'Cliente': ids, 'T entre llegadas': Xi, 'T llegada': TLL, 'T servicio': Yi, \n",
        "     'T inicio de servicio': np.zeros(N), 'T fin de servicio': np.zeros(N),\n",
        "     'T sistema': np.zeros(N), 'T libre': np.zeros(N), 'T cola': np.zeros(N),\n",
        "     }\n",
        "df = pd.DataFrame(data=d)\n",
        "df\n",
        "\n",
        "for i in range(0, N):\n",
        "  if i>0:\n",
        "    t_espera = max(df['T fin de servicio'][i-1] - df['T llegada'][i], 0)\n",
        "    t_libre = max(df['T llegada'][i] - df['T fin de servicio'][i-1],0)\n",
        "  else:\n",
        "    t_espera = 0\n",
        "    t_libre = df['T llegada'][i]\n",
        "\n",
        "  df['T inicio de servicio'][i] = df['T llegada'][i] + t_espera\n",
        "  df['T fin de servicio'][i] = df['T inicio de servicio'][i] + df['T servicio'][i]\n",
        "  df['T sistema'][i] = df['T fin de servicio'][i] - df['T llegada'][i]\n",
        "  df['T libre'][i] = t_libre\n",
        "  df['T cola'][i] = df['T inicio de servicio'][i] - df['T llegada'][i]\n",
        "\n",
        "df\n",
        "\n",
        "promedio_tiempo_sistema = (df['T sistema'].sum())/N\n",
        "porc_tiempo_libre = sum(df['T libre'][df['T libre']>0])/df['T fin de servicio'][N-1] * 100\n",
        "promedio_tiempo_espera_por_cliente =  (df['T cola'].sum())/N\n",
        "fraccion_clientes_que_esperaron = sum(df['T cola']>0)/N\n",
        "promedio_tiempo_espera_clientes_cola = sum(df['T cola'][df['T cola']>0]) / sum(df['T cola']>0)\n",
        "\n",
        "print('- Tiempo promedio en el sistema = ' + str(promedio_tiempo_sistema))\n",
        "print('- Porcentaje de tiempo libre del servidor = ' + str(porc_tiempo_libre))\n",
        "print('- Promedio de tiempo de espera por cliente = ' + str(promedio_tiempo_espera_por_cliente))\n",
        "print('- Fracción de clientes que estuvieron esperando = ' + str(fraccion_clientes_que_esperaron))\n",
        "print('- Promedio de tiempo de espera de los clientes que esperaron en cola = ' + str(promedio_tiempo_espera_clientes_cola))\n",
        "\n",
        "# número de repeticiones de simulación\n",
        "reps = 10\n",
        "# Lista con las medidas de desempeño de cada una de las repeticiones de simulación\n",
        "M = []  \n",
        "\n",
        "ct = 0\n",
        "while ct < reps:\n",
        "    x0 = int(round(time.time() * 1000))\n",
        "    [Ix,Xx,Ux] = genranN(a1,b1,m1,x0,N)\n",
        "\n",
        "    x0 = int(round(time.time() * 1000))\n",
        "    [Iy,Xy,Uy] = genranN(a2,b2,m2,x0,N)\n",
        "\n",
        "    y = [1,2,3,4,5,6,7,8,9,10,11,12,13,14,15]\n",
        "    py = [0.01,0.02,0.02,0.02,0.02,0.025,0.03,0.05,0.08,0.09,0.11,0.15,0.2,0.125,0.05]\n",
        "    P = np.cumsum(py)\n",
        "\n",
        "    Xi = genpoissonN(Ux,L,N)\n",
        "    Yi = genvardiscret(Uy,y,P)\n",
        "\n",
        "    ids = np.arange(1,N+1)\n",
        "\n",
        "    TLL = np.cumsum(Xi)\n",
        "\n",
        "    d = {'Cliente': ids, 'T entre llegadas': Xi, 'T llegada': TLL, 'T servicio': Yi, \n",
        "        'T inicio de servicio': np.zeros(N), 'T fin de servicio': np.zeros(N),\n",
        "        'T sistema': np.zeros(N), 'T libre': np.zeros(N), 'T cola': np.zeros(N),\n",
        "        }\n",
        "    df = pd.DataFrame(data=d)\n",
        "\n",
        "    for i in range(0, N):\n",
        "        if i>0:\n",
        "            t_espera = max(df['T fin de servicio'][i-1] - df['T llegada'][i], 0)\n",
        "            t_libre = max(df['T llegada'][i] - df['T fin de servicio'][i-1],0)\n",
        "        else:\n",
        "            t_espera = 0\n",
        "            t_libre = df['T llegada'][i]\n",
        "\n",
        "        df['T inicio de servicio'][i] = df['T llegada'][i] + t_espera\n",
        "        df['T fin de servicio'][i] = df['T inicio de servicio'][i] + df['T servicio'][i]\n",
        "        df['T sistema'][i] = df['T fin de servicio'][i] - df['T llegada'][i]\n",
        "        df['T libre'][i] = t_libre\n",
        "        df['T cola'][i] = df['T inicio de servicio'][i] - df['T llegada'][i]\n",
        "    \n",
        "    promedio_tiempo_sistema = (df['T sistema'].sum())/N\n",
        "    M.append(promedio_tiempo_sistema)\n",
        "    ct += 1\n",
        "\n",
        "print(\"Rep.\\tT. prom. Sistema\")\n",
        "for i in range(0, len(M)):\n",
        "    print(\"%d\\t%g\" % (i+1,M[i]), sep=' ', end='\\n')\n",
        "\n",
        "from IPython.display import display, Markdown\n",
        "\n",
        "alpha = 0.05\n",
        "\n",
        "mean = np.mean(M)\n",
        "var = np.var(M)\n",
        "\n",
        "tval = stats.t.ppf(1-(alpha/2), reps-1)\n",
        "hval = tval*(np.sqrt(var)/np.sqrt(reps))\n",
        "\n",
        "display(Markdown(\n",
        "   rf\"\"\"\n",
        "$\\bar{{X}} = {mean}$\n",
        "\n",
        "$S = {var}$\n",
        "\n",
        "$t_{{n-1,1-\\frac{{\\alpha}}{2}}} = t_{{{reps-1},{1-alpha/2}}} ={tval}$\n",
        "\n",
        "$h = {hval}$ \n",
        "\n",
        "Intervalo de confianza : $C.I. = (\\bar{{X}}-h , \\bar{{X}} + h) = ({mean-hval},{mean+hval})$\n",
        "\n",
        "\"\"\"))"
      ],
      "execution_count": 11,
      "outputs": [
        {
          "output_type": "stream",
          "text": [
            "Xi=[9, 12, 23, 10, 8, 16, 14, 11, 11, 6, 10, 12, 4, 13, 11, 12, 8, 15, 7, 11, 6, 12, 11, 10, 11, 14, 8, 10, 7, 12, 14, 12, 14, 8, 11, 9, 13, 9, 7, 9, 14, 18, 5, 10, 9, 4, 8, 10, 10, 11, 9, 5, 8, 10, 14, 6, 10, 10, 17, 12, 11, 8, 10, 11, 10, 7, 10, 15, 10, 10, 10, 9, 18, 9, 6, 11, 12, 16, 7, 6, 8, 14, 6, 9, 7, 4, 10, 6, 11, 11, 10, 9, 10, 11, 12, 10, 6, 13, 8, 10, 7, 10, 11, 16, 11, 9, 8, 8, 12, 15, 4, 12, 8, 16, 8, 12, 9, 11, 9, 12, 11, 11, 11, 11, 9, 8, 10, 10, 8, 9, 15, 8, 11, 13, 9, 8, 12, 10, 10, 12, 7, 7, 11, 12, 8, 5, 10, 10, 12, 11, 8, 9, 8, 13, 4, 13, 17, 7, 8, 6, 13, 5, 4, 11, 10, 10, 10, 11, 12, 12, 8, 8, 12, 14, 14, 9, 6, 9, 11, 14, 14, 7, 14, 5, 10, 8, 10, 8, 7, 12, 5, 8, 10, 7, 9, 11, 11, 15, 13, 8]\n",
            "Yi=[9, 11, 13, 10, 13, 11, 9, 13, 14, 13, 7, 13, 15, 12, 11, 15, 6, 13, 13, 15, 12, 15, 9, 13, 15, 14, 7, 12, 14, 15, 13, 15, 14, 13, 12, 11, 15, 12, 12, 8, 12, 14, 12, 12, 13, 7, 11, 15, 8, 13, 7, 12, 14, 3, 9, 11, 5, 12, 13, 13, 11, 10, 10, 7, 14, 14, 1, 14, 10, 5, 13, 13, 11, 12, 12, 5, 10, 12, 12, 14, 11, 10, 15, 12, 12, 13, 12, 9, 9, 13, 13, 11, 14, 11, 3, 5, 10, 12, 14, 14, 12, 14, 12, 12, 10, 12, 13, 8, 14, 9, 14, 14, 8, 10, 13, 13, 4, 4, 12, 3, 14, 8, 2, 11, 13, 4, 12, 13, 11, 13, 14, 10, 11, 13, 13, 13, 14, 11, 10, 14, 12, 14, 9, 14, 14, 15, 12, 11, 8, 15, 8, 11, 15, 15, 12, 9, 15, 12, 9, 3, 4, 12, 11, 11, 1, 9, 12, 13, 12, 10, 5, 2, 15, 14, 8, 12, 12, 12, 7, 10, 13, 12, 9, 11, 11, 13, 7, 12, 9, 13, 10, 9, 2, 15, 10, 13, 11, 10, 12, 15]\n",
            "- Tiempo promedio en el sistema = 132.725\n",
            "- Porcentaje de tiempo libre del servidor = 1.205357142857143\n",
            "- Promedio de tiempo de espera por cliente = 121.66\n",
            "- Fracción de clientes que estuvieron esperando = 0.975\n",
            "- Promedio de tiempo de espera de los clientes que esperaron en cola = 124.77948717948718\n",
            "Rep.\tT. prom. Sistema\n",
            "1\t122.64\n",
            "2\t122.4\n",
            "3\t90.365\n",
            "4\t107.75\n",
            "5\t105.965\n",
            "6\t113.325\n",
            "7\t99.225\n",
            "8\t77.31\n",
            "9\t113.495\n",
            "10\t29.855\n"
          ],
          "name": "stdout"
        },
        {
          "output_type": "display_data",
          "data": {
            "text/markdown": "\n$\\bar{X} = 98.233$\n\n$S = 696.7012060000001$\n\n$t_{n-1,1-\\frac{\\alpha}2} = t_{9,0.975} =2.2621571627409915$\n\n$h = 18.88191574018093$ \n\nIntervalo de confianza : $C.I. = (\\bar{X}-h , \\bar{X} + h) = (79.35108425981907,117.11491574018093)$\n\n",
            "text/plain": [
              "<IPython.core.display.Markdown object>"
            ]
          },
          "metadata": {
            "tags": []
          }
        }
      ]
    },
    {
      "cell_type": "markdown",
      "metadata": {
        "id": "LDfCAvlpBxuU"
      },
      "source": [
        "## 5.  (1.0 punto)\n",
        "Utilizando el metodo de Monte Carlo, y tomando como base el ejemplo de estimación de $\\pi/4$:\n",
        "\n",
        "**a)** Implemente el metodo de Monte Carlo para calcular y mostrar el área estimada de una elipse con un semieje mayor $a = 9$ y semieje menor $b = 4$ centrado en el origen $x, y = (0, 0)$ generando 1000 coordenadas aleatorias $(X, Y)$ en el rango de\n",
        "$X = [−a, a]$ y $Y = [−b, b]$.<br>\n",
        "**b)** Calcule el area real de la elipse.<br>\n",
        "**c)** Calcule la diferencia entre el área real y el área estimada de la elipse con el método de Monte Carlo<br>\n",
        "**d)** Grafique los puntos aleatorios generados que caen dentro de la elipse en rojo y los que caen fuera de la elipse en azul."
      ]
    },
    {
      "cell_type": "code",
      "metadata": {
        "id": "wjN4Uwv5B-tL",
        "colab": {
          "base_uri": "https://localhost:8080/"
        },
        "outputId": "b833b698-adc2-4e32-af2e-996c215de61b"
      },
      "source": [
        "import numpy as np\n",
        "import scipy as sp\n",
        "from sympy import *\n",
        "import math\n",
        "import time\n",
        "from random import random\n",
        "\n",
        "a=9\n",
        "b=4\n",
        "N = 1000\n",
        "\n",
        "nElipse = 0\n",
        "nNElipse = 0\n",
        "X=[]\n",
        "Y=[]\n",
        "Xr=[]\n",
        "Yr=[]\n",
        "Xb=[]\n",
        "Yb=[]\n",
        "for i in range(1, N+1):\n",
        "  Ux = np.random.rand()\n",
        "  Uy = np.random.rand()\n",
        "  X.append(2*a*Ux-a)\n",
        "  Y.append(2*b*Uy-b)\n",
        "  I = (X[i-1]**2)/(a**2) + (Y[i-1]**2)/(b**2)\n",
        "  if I <= 1:\n",
        "    nElipse = nElipse + 1\n",
        "    Xr.append(X[i-1])\n",
        "    Yr.append(Y[i-1])\n",
        "  else:\n",
        "      nNElipse = nNElipse +1\n",
        "      Xb.append(X[i-1])\n",
        "      Yb.append(Y[i-1])\n",
        "\n",
        "AreaElipseMC = (float(nElipse)/ float(N))*((4*b*a))\n",
        "print(\"a) Area estimada elipse con MC: \", AreaElipseMC)"
      ],
      "execution_count": null,
      "outputs": [
        {
          "output_type": "stream",
          "text": [
            "a) Area estimada elipse con MC:  107.712\n"
          ],
          "name": "stdout"
        }
      ]
    },
    {
      "cell_type": "code",
      "metadata": {
        "colab": {
          "base_uri": "https://localhost:8080/"
        },
        "id": "gdfPiC-tWlLc",
        "outputId": "16efed74-35ac-40a8-8704-b86333f8ecc5"
      },
      "source": [
        "AreaElipseReal = np.pi*a*b\n",
        "\n",
        "print(\"b) Calcule el área real de la elipse.\",AreaElipseReal)"
      ],
      "execution_count": null,
      "outputs": [
        {
          "output_type": "stream",
          "text": [
            "b) Calcule el área real de la elipse. 113.09733552923255\n"
          ],
          "name": "stdout"
        }
      ]
    },
    {
      "cell_type": "code",
      "metadata": {
        "colab": {
          "base_uri": "https://localhost:8080/",
          "height": 387
        },
        "id": "GfD-Ye4bWrb7",
        "outputId": "2830b277-1ae3-4235-8a1a-d62a35ef0f3a"
      },
      "source": [
        "import matplotlib.pyplot as plt\n",
        "\n",
        "x = np.arange(-float(a),float(a),float(a)/100.0)\n",
        "#x.append(1)\n",
        "y1=[]\n",
        "y2=[]\n",
        "for i in x:\n",
        "    n = np.sqrt((1-((i**2)/a**2))*b**2)\n",
        "    y1.append(n)\n",
        "    y2.append(-n)\n",
        "    \n",
        "plt.plot(x,y1,color=\"black\",lw=3)\n",
        "plt.plot(x,y2,color=\"black\",lw=3)\n",
        "plt.ylim(-(b), b)\n",
        "plt.xlim(-(a), a)\n",
        "plt.grid(True) \n",
        "\n",
        "plt.plot(Xr, Yr, color=\"red\",linewidth=0, marker='o')\n",
        "plt.plot(Xb, Yb, color=\"blue\",linewidth=0, marker='o')\n",
        "titulo = \"Area Real = \"+str(AreaElipseReal)+\" Area Estimada= \"+str(AreaElipseMC)+\" Error = \"+str(np.abs(AreaElipseReal-AreaElipseMC))\n",
        "print(\"\\nc) Calcule la diferencia entre el área real y el área estimada con el método de Monte Carlo\\n\")\n",
        "print(titulo)\n",
        "print(\"\\nd) Grafique los puntos aleatorios generados que caen dentro del círculo en rojo y los que caen fuera del círculo en azul \")\n",
        "plt.title(titulo)\n",
        "plt.show()"
      ],
      "execution_count": null,
      "outputs": [
        {
          "output_type": "stream",
          "text": [
            "\n",
            "c) Calcule la diferencia entre el área real y el área estimada con el método de Monte Carlo\n",
            "\n",
            "Area Real = 113.09733552923255 Area Estimada= 107.712 Error = 5.385335529232549\n",
            "\n",
            "d) Grafique los puntos aleatorios generados que caen dentro del círculo en rojo y los que caen fuera del círculo en azul \n"
          ],
          "name": "stdout"
        },
        {
          "output_type": "display_data",
          "data": {
            "image/png": "[encoded data removed]",
            "text/plain": [
              "<Figure size 432x288 with 1 Axes>"
            ]
          },
          "metadata": {
            "tags": [],
            "needs_background": "light"
          }
        }
      ]
    }
  ]
}